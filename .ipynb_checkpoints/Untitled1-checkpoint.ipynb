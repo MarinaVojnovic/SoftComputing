{
 "cells": [
  {
   "cell_type": "code",
   "execution_count": 131,
   "metadata": {},
   "outputs": [],
   "source": [
    "import os\n",
    "import numpy as np\n",
    "import cv2 # OpenCV\n",
    "from sklearn.svm import SVC # SVM klasifikator\n",
    "from sklearn.metrics import accuracy_score\n",
    "from sklearn.model_selection import train_test_split\n",
    "from sklearn.neighbors import KNeighborsClassifier # KNN\n",
    "import matplotlib.pyplot as plt\n",
    "import csv\n",
    "import imutils\n",
    "%matplotlib inline\n",
    "\n"
   ]
  },
  {
   "cell_type": "code",
   "execution_count": 132,
   "metadata": {},
   "outputs": [],
   "source": [
    "def load_image(path):\n",
    "    return cv2.cvtColor(cv2.imread(path), cv2.COLOR_BGR2GRAY)\n",
    "\n",
    "def display_image(image):\n",
    "    plt.imshow(image, 'gray')"
   ]
  },
  {
   "cell_type": "code",
   "execution_count": 133,
   "metadata": {},
   "outputs": [],
   "source": [
    "files = []\n",
    "labels = []\n",
    "with open(\"train/train_labels.csv\", \"r\") as csv_file:\n",
    "    csv_reader = csv.DictReader(csv_file, delimiter=',')\n",
    "    for lines in csv_reader:\n",
    "        files.append(lines['file'])\n",
    "        label = lines['labels']\n",
    "        if label == 'lilyvalley':\n",
    "            labels.append(1)\n",
    "        elif label == 'tigerlily':\n",
    "            labels.append(2)\n",
    "        elif label == 'snowdrop':\n",
    "            labels.append(3)\n",
    "        elif label == 'bluebell':\n",
    "            labels.append(4)\n",
    "        elif label == 'fritillary':\n",
    "            labels.append(5)\n",
    "\n",
    "     "
   ]
  },
  {
   "cell_type": "code",
   "execution_count": 134,
   "metadata": {},
   "outputs": [],
   "source": [
    "def resize(region):\n",
    "    return cv2.resize(region, (40, 50), interpolation=cv2.INTER_NEAREST)"
   ]
  },
  {
   "cell_type": "code",
   "execution_count": 135,
   "metadata": {},
   "outputs": [],
   "source": [
    "train_dir = 'train/'\n",
    "\n",
    "images = []\n",
    "\n",
    "for img_name in files:\n",
    "    img_path = os.path.join(train_dir, img_name)\n",
    "    img = load_image(img_path)\n",
    "    img = resize(img)\n",
    "    images.append(img)\n"
   ]
  },
  {
   "cell_type": "code",
   "execution_count": 136,
   "metadata": {},
   "outputs": [],
   "source": [
    "images_hog = []\n",
    "\n",
    "nbins = 9 # broj binova default\n",
    "cell_size = (8, 8) # broj piksela po celiji najbolje ovako\n",
    "block_size = (2, 2) # broj celija po bloku, sad smo ovako ili 2x2 ili 4x4\n",
    "\n",
    "#20:00\n",
    "#_winSize-velicina prozora, tj slike. Mora biti deljivo sa velicinom celije, \n",
    "#velicina bloka u pikselima\n",
    "#kako ce se kretati blok po slici\n",
    "hog = cv2.HOGDescriptor(_winSize=(img.shape[1] // cell_size[1] * cell_size[1], \n",
    "                                  img.shape[0] // cell_size[0] * cell_size[0]),\n",
    "                        _blockSize=(block_size[1] * cell_size[1],\n",
    "                                    block_size[0] * cell_size[0]),\n",
    "                        _blockStride=(cell_size[1], cell_size[0]),\n",
    "                        _cellSize=(cell_size[1], cell_size[0]),\n",
    "                        _nbins=nbins)\n",
    "\n",
    "for img in images:\n",
    "    images_hog.append(hog.compute(img))\n",
    "    \n",
    "images_hog = np.array(images_hog)\n",
    "images_results = np.array(labels)\n",
    "x = images_hog\n",
    "y = np.array(images_results)\n",
    "\n"
   ]
  },
  {
   "cell_type": "code",
   "execution_count": 137,
   "metadata": {},
   "outputs": [],
   "source": [
    "# transformisemo u oblik pogodan za scikit-learn\n",
    "#feature-i su vektori kolona i moramo ih transformisati u obican vektor\n",
    "def reshape_data(input_data):\n",
    "    nsamples, nx, ny = input_data.shape\n",
    "    return input_data.reshape((nsamples, nx*ny))"
   ]
  },
  {
   "cell_type": "code",
   "execution_count": 138,
   "metadata": {},
   "outputs": [],
   "source": [
    "x_train = reshape_data(x)\n",
    "y_train = y"
   ]
  },
  {
   "cell_type": "code",
   "execution_count": 139,
   "metadata": {},
   "outputs": [
    {
     "name": "stdout",
     "output_type": "stream",
     "text": [
      "Train accuracy:  0.971875\n"
     ]
    }
   ],
   "source": [
    "clf_svm = SVC(kernel='linear', probability=True) #binarna je klasifikacija pa je dovoljna binarna klas\n",
    "clf_svm.fit(x_train, y_train)\n",
    "y_train_pred = clf_svm.predict(x_train)\n",
    "print(\"Train accuracy: \", accuracy_score(y_train, y_train_pred))\n"
   ]
  },
  {
   "cell_type": "code",
   "execution_count": 140,
   "metadata": {},
   "outputs": [],
   "source": [
    "files_test = []\n",
    "labels_test = []\n",
    "with open(\"test/test_labels.csv\", \"r\") as csv_file:\n",
    "    csv_reader = csv.DictReader(csv_file, delimiter=',')\n",
    "    for lines in csv_reader:\n",
    "        files_test.append(lines['file'])\n",
    "        label = lines['labels']\n",
    "        if label == 'lilyvalley':\n",
    "            labels_test.append(1)\n",
    "        elif label == 'tigerlily':\n",
    "            labels_test.append(2)\n",
    "        elif label == 'snowdrop':\n",
    "            labels_test.append(3)\n",
    "        elif label == 'bluebell':\n",
    "            labels_test.append(4)\n",
    "        elif label == 'fritillary':\n",
    "            labels_test.append(5)\n"
   ]
  },
  {
   "cell_type": "code",
   "execution_count": 141,
   "metadata": {},
   "outputs": [],
   "source": [
    "test_dir = 'test/'\n",
    "images_test = []\n",
    "\n",
    "for img_name in files_test:\n",
    "    img_path = os.path.join(test_dir, img_name)\n",
    "    img = load_image(img_path)\n",
    "    img = resize(img)\n",
    "    images_test.append(img)\n",
    "\n"
   ]
  },
  {
   "cell_type": "code",
   "execution_count": 142,
   "metadata": {},
   "outputs": [],
   "source": [
    "images_test_hog = []\n",
    "\n",
    "for img in images_test:\n",
    "    images_test_hog.append(hog.compute(img))\n",
    "    \n",
    "images_test_hog = np.array(images_test_hog)\n",
    "images_test_results = np.array(labels_test)\n",
    "xx = images_test_hog\n",
    "yy = np.array(images_test_results)"
   ]
  },
  {
   "cell_type": "code",
   "execution_count": 143,
   "metadata": {},
   "outputs": [],
   "source": [
    "x_test = reshape_data(xx)\n",
    "y_test = yy"
   ]
  },
  {
   "cell_type": "code",
   "execution_count": 144,
   "metadata": {},
   "outputs": [
    {
     "name": "stdout",
     "output_type": "stream",
     "text": [
      "Train accuracy:  0.5625\n"
     ]
    }
   ],
   "source": [
    "y_test_pred = clf_svm.predict(x_test)\n",
    "print(\"Train accuracy: \", accuracy_score(y_test, y_test_pred))"
   ]
  },
  {
   "cell_type": "code",
   "execution_count": null,
   "metadata": {},
   "outputs": [],
   "source": []
  }
 ],
 "metadata": {
  "kernelspec": {
   "display_name": "Python 3",
   "language": "python",
   "name": "python3"
  },
  "language_info": {
   "codemirror_mode": {
    "name": "ipython",
    "version": 3
   },
   "file_extension": ".py",
   "mimetype": "text/x-python",
   "name": "python",
   "nbconvert_exporter": "python",
   "pygments_lexer": "ipython3",
   "version": "3.6.5"
  }
 },
 "nbformat": 4,
 "nbformat_minor": 2
}
